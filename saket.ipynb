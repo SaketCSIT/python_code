{
 "cells": [
  {
   "cell_type": "code",
   "execution_count": 45,
   "metadata": {},
   "outputs": [
    {
     "name": "stdout",
     "output_type": "stream",
     "text": [
      "Saket Maheshwari\n"
     ]
    }
   ],
   "source": [
    "a='saket maheshwari'\n",
    "out=a.title()\n",
    "print(out)"
   ]
  },
  {
   "cell_type": "code",
   "execution_count": 47,
   "metadata": {},
   "outputs": [
    {
     "name": "stdout",
     "output_type": "stream",
     "text": [
      "an\n"
     ]
    }
   ],
   "source": [
    "a='Shenanigam'\n",
    "#out=a[:2]\n",
    "out1=a[4:6:]\n",
    "#print(out)\n",
    "print(out1)"
   ]
  },
  {
   "cell_type": "code",
   "execution_count": 49,
   "metadata": {},
   "outputs": [
    {
     "data": {
      "text/plain": [
       "30"
      ]
     },
     "execution_count": 49,
     "metadata": {},
     "output_type": "execute_result"
    }
   ],
   "source": [
    "def add(a:int,b:int)->int:\n",
    "    return a+b\n",
    "\n",
    "add(10,20)\n"
   ]
  },
  {
   "cell_type": "code",
   "execution_count": 29,
   "metadata": {},
   "outputs": [
    {
     "name": "stdout",
     "output_type": "stream",
     "text": [
      "25\n",
      "0\n"
     ]
    }
   ],
   "source": [
    "#scope of the variable\n",
    "''' \n",
    "local\n",
    "non local\n",
    "globla\n",
    "'''\n",
    "def add():\n",
    "    a=0  #local variable\n",
    "    print(a)\n",
    "\n",
    "a=25 #gloabal variable\n",
    "print(a)\n",
    "add()\n"
   ]
  },
  {
   "cell_type": "code",
   "execution_count": 9,
   "metadata": {},
   "outputs": [
    {
     "name": "stdout",
     "output_type": "stream",
     "text": [
      "15\n"
     ]
    }
   ],
   "source": [
    "n=(input())\n",
    "sum=0\n",
    "if n>=\"100000\" and n<=\"999999\":\n",
    "    for x in n:\n",
    "        sum=sum+int(x)\n",
    "print(sum)"
   ]
  },
  {
   "cell_type": "code",
   "execution_count": 30,
   "metadata": {},
   "outputs": [
    {
     "name": "stdout",
     "output_type": "stream",
     "text": [
      "Numnber is not palindrome\n"
     ]
    }
   ],
   "source": [
    "n=int(input(\"Enter The Number\"))\n",
    "rev=0\n",
    "temp=n\n",
    "\n",
    "while n>0:\n",
    "    rev=(rev*10)+(n%10)\n",
    "    n=n//10\n",
    "if temp==rev:\n",
    "    print(\"Numner Is Palindrome\")\n",
    "else:\n",
    "    print(\"Numnber is not palindrome\")"
   ]
  },
  {
   "cell_type": "code",
   "execution_count": null,
   "metadata": {},
   "outputs": [
    {
     "data": {
      "text/plain": [
       "90"
      ]
     },
     "execution_count": 8,
     "metadata": {},
     "output_type": "execute_result"
    }
   ],
   "source": [
    "def add(num1,num2):\n",
    "    return num1+num2\n",
    "num1=int(input(\"\"))\n",
    "num2=int(input(\"\"))\n",
    "add(num1,num2)"
   ]
  },
  {
   "cell_type": "code",
   "execution_count": null,
   "metadata": {},
   "outputs": [],
   "source": [
    "def my_func(ls):\n",
    "    t=ls.copy()\n",
    "    ls.sort()\n",
    "    if t==ls:\n",
    "        return 0\n",
    "    elif t==ls[::-1]:\n",
    "        return 1\n",
    "    else:\n",
    "        return -1"
   ]
  },
  {
   "cell_type": "code",
   "execution_count": null,
   "metadata": {},
   "outputs": [
    {
     "data": {
      "text/plain": [
       "-1"
      ]
     },
     "execution_count": 15,
     "metadata": {},
     "output_type": "execute_result"
    }
   ],
   "source": [
    "ls=['saket','','manan']\n",
    "my_func(ls)"
   ]
  },
  {
   "cell_type": "code",
   "execution_count": null,
   "metadata": {},
   "outputs": [
    {
     "name": "stdout",
     "output_type": "stream",
     "text": [
      "['ramesh', 'saket', 'satish', 'zoya']\n"
     ]
    }
   ],
   "source": [
    "def apna_function(x):\n",
    "    return x[-1]\n",
    "\n",
    "ls=['ramesh','zoya','saket','satish']\n",
    "ls.sort()\n",
    "print(ls)"
   ]
  },
  {
   "cell_type": "code",
   "execution_count": null,
   "metadata": {},
   "outputs": [
    {
     "name": "stdout",
     "output_type": "stream",
     "text": [
      "['zoya', 'saket', 'ramesh', 'satish']\n"
     ]
    }
   ],
   "source": [
    "def ascii_value(z):\n",
    "    return sum(list(map(ord,z)))\n",
    "\n",
    "ls=['ramesh','zoya','saket','satish']\n",
    "ls.sort(key=ascii_value)\n",
    "print(ls)\n"
   ]
  },
  {
   "cell_type": "code",
   "execution_count": null,
   "metadata": {},
   "outputs": [
    {
     "name": "stdout",
     "output_type": "stream",
     "text": [
      "0\n",
      "1\n",
      "2\n",
      "3\n",
      "4\n",
      "5\n",
      "6\n",
      "7\n",
      "8\n",
      "9\n"
     ]
    }
   ],
   "source": [
    "def my(r):\n",
    "    for i in range(10):\n",
    "        print(i)\n",
    "my(1)"
   ]
  },
  {
   "cell_type": "code",
   "execution_count": null,
   "metadata": {},
   "outputs": [
    {
     "name": "stdout",
     "output_type": "stream",
     "text": [
      "10\n"
     ]
    }
   ],
   "source": [
    "def fact(y):\n",
    "    facto=1\n",
    "    for i in range(y+1):\n",
    "        facto*=i\n",
    "    print(i)\n",
    "fact(y)\n",
    "y=int(input(\"Enter The Number\"))\n"
   ]
  },
  {
   "cell_type": "code",
   "execution_count": null,
   "metadata": {},
   "outputs": [
    {
     "name": "stdout",
     "output_type": "stream",
     "text": [
      "5\n"
     ]
    }
   ],
   "source": [
    "a=int(input(\"Enter The Notes\"))\n",
    "while a>10:\n",
    "    a=a%10\n",
    "    print(a)\n",
    "    "
   ]
  },
  {
   "cell_type": "code",
   "execution_count": null,
   "metadata": {},
   "outputs": [
    {
     "name": "stdout",
     "output_type": "stream",
     "text": [
      "[2, 14, 25, 32, 78, 85]\n"
     ]
    }
   ],
   "source": [
    "def prime(x):\n",
    "    for i in range(x,2):\n",
    "        if x%i==0:\n",
    "            return 1\n",
    "    return 0\n",
    "ls=[2,85,32,25,14,78]\n",
    "ls.sort(key=prime)\n",
    "ls.sort()\n",
    "print(ls)\n"
   ]
  },
  {
   "cell_type": "code",
   "execution_count": null,
   "metadata": {},
   "outputs": [
    {
     "ename": "SyntaxError",
     "evalue": "invalid syntax (1756640198.py, line 3)",
     "output_type": "error",
     "traceback": [
      "\u001b[1;36m  Cell \u001b[1;32mIn[1], line 3\u001b[1;36m\u001b[0m\n\u001b[1;33m    out=list(filter(lambda(x:x%2==0,ls)))\u001b[0m\n\u001b[1;37m                          ^\u001b[0m\n\u001b[1;31mSyntaxError\u001b[0m\u001b[1;31m:\u001b[0m invalid syntax\n"
     ]
    }
   ],
   "source": [
    "#filter \n",
    "ls=[2,45,96,54,52,23]\n",
    "out=list(filter(lambda(x:x%2==0,ls)))\n",
    "\n",
    "print(out)"
   ]
  },
  {
   "cell_type": "code",
   "execution_count": null,
   "metadata": {},
   "outputs": [
    {
     "data": {
      "text/plain": [
       "['__doc__',\n",
       " '__loader__',\n",
       " '__name__',\n",
       " '__package__',\n",
       " '__spec__',\n",
       " 'acos',\n",
       " 'acosh',\n",
       " 'asin',\n",
       " 'asinh',\n",
       " 'atan',\n",
       " 'atan2',\n",
       " 'atanh',\n",
       " 'cbrt',\n",
       " 'ceil',\n",
       " 'comb',\n",
       " 'copysign',\n",
       " 'cos',\n",
       " 'cosh',\n",
       " 'degrees',\n",
       " 'dist',\n",
       " 'e',\n",
       " 'erf',\n",
       " 'erfc',\n",
       " 'exp',\n",
       " 'exp2',\n",
       " 'expm1',\n",
       " 'fabs',\n",
       " 'factorial',\n",
       " 'floor',\n",
       " 'fmod',\n",
       " 'frexp',\n",
       " 'fsum',\n",
       " 'gamma',\n",
       " 'gcd',\n",
       " 'hypot',\n",
       " 'inf',\n",
       " 'isclose',\n",
       " 'isfinite',\n",
       " 'isinf',\n",
       " 'isnan',\n",
       " 'isqrt',\n",
       " 'lcm',\n",
       " 'ldexp',\n",
       " 'lgamma',\n",
       " 'log',\n",
       " 'log10',\n",
       " 'log1p',\n",
       " 'log2',\n",
       " 'modf',\n",
       " 'nan',\n",
       " 'nextafter',\n",
       " 'perm',\n",
       " 'pi',\n",
       " 'pow',\n",
       " 'prod',\n",
       " 'radians',\n",
       " 'remainder',\n",
       " 'sin',\n",
       " 'sinh',\n",
       " 'sqrt',\n",
       " 'tan',\n",
       " 'tanh',\n",
       " 'tau',\n",
       " 'trunc',\n",
       " 'ulp']"
      ]
     },
     "execution_count": 14,
     "metadata": {},
     "output_type": "execute_result"
    }
   ],
   "source": [
    "import math\n",
    "dir(math)"
   ]
  },
  {
   "cell_type": "code",
   "execution_count": 11,
   "metadata": {},
   "outputs": [
    {
     "name": "stdout",
     "output_type": "stream",
     "text": [
      "4\n",
      "3 3 3 4\n",
      "3 3 3 4\n",
      "3 3 3 4\n",
      "3 3 3 "
     ]
    }
   ],
   "source": [
    "# Where the value of n=4\n",
    "#  4 4 4 4 4 4 4\n",
    "#  4 3 3 3 3 3 4\n",
    "#  4 3 2 2 2 3 4\n",
    "#  4 3 2 1 2 3 4\n",
    "#  4 3 2 2 2 3 4 \n",
    "#  4 3 3 3 3 3 4\n",
    "#  4 4 4 4 4 4 4\n",
    "\n",
    "n=4\n",
    "# for j in range(n):\n",
    "#     print(end=\"\")\n",
    "    # for j in range(n):\n",
    "    #     print(n,end=\"\")\n",
    "for x in range(n):\n",
    "    print(n)\n",
    "    for x in range(n-1):\n",
    "        print(n-1,end=\" \")\n",
    "    #print(end=\"\")"
   ]
  },
  {
   "cell_type": "code",
   "execution_count": null,
   "metadata": {},
   "outputs": [
    {
     "name": "stdout",
     "output_type": "stream",
     "text": [
      "78\n"
     ]
    }
   ],
   "source": [
    "#modules in python\n",
    "# modules is just file which contains a a function\n",
    "'''\n",
    "1. Math\n",
    "2. Random\n",
    "3. Numpy\n",
    "'''\n",
    "ls=[20,54,32,1,78]\n",
    "out=max(ls)\n",
    "print(out)"
   ]
  },
  {
   "cell_type": "code",
   "execution_count": null,
   "metadata": {},
   "outputs": [
    {
     "name": "stdout",
     "output_type": "stream",
     "text": [
      "362880 3.0\n"
     ]
    }
   ],
   "source": [
    "import math\n",
    "a=9\n",
    "out=math.factorial(a)\n",
    "out1=math.sqrt(a)\n",
    "print(out,out1)"
   ]
  },
  {
   "cell_type": "code",
   "execution_count": null,
   "metadata": {},
   "outputs": [
    {
     "name": "stdout",
     "output_type": "stream",
     "text": [
      "3.0\n"
     ]
    }
   ],
   "source": [
    "from math import sqrt,factorial\n",
    "a=9\n",
    "out=sqrt(a)\n",
    "print(out)"
   ]
  },
  {
   "cell_type": "code",
   "execution_count": null,
   "metadata": {},
   "outputs": [
    {
     "name": "stdout",
     "output_type": "stream",
     "text": [
      "0.4571385269519278\n"
     ]
    }
   ],
   "source": [
    "value=154\n",
    "out=log(10,value)\n",
    "print(out)"
   ]
  },
  {
   "cell_type": "code",
   "execution_count": null,
   "metadata": {},
   "outputs": [
    {
     "name": "stdout",
     "output_type": "stream",
     "text": [
      "3\n"
     ]
    }
   ],
   "source": [
    "a=65536\n",
    "out=int(log(a,256))+1\n",
    "print(out)"
   ]
  },
  {
   "cell_type": "code",
   "execution_count": null,
   "metadata": {},
   "outputs": [
    {
     "ename": "ModuleNotFoundError",
     "evalue": "No module named 'pandas'",
     "output_type": "error",
     "traceback": [
      "\u001b[1;31m---------------------------------------------------------------------------\u001b[0m",
      "\u001b[1;31mModuleNotFoundError\u001b[0m                       Traceback (most recent call last)",
      "Cell \u001b[1;32mIn[3], line 2\u001b[0m\n\u001b[0;32m      1\u001b[0m \u001b[39m# Code you have previously used to load data\u001b[39;00m\n\u001b[1;32m----> 2\u001b[0m \u001b[39mimport\u001b[39;00m \u001b[39mpandas\u001b[39;00m \u001b[39mas\u001b[39;00m \u001b[39mpd\u001b[39;00m\n\u001b[0;32m      4\u001b[0m \u001b[39m# Path of the file to read\u001b[39;00m\n\u001b[0;32m      5\u001b[0m iowa_file_path \u001b[39m=\u001b[39m \u001b[39m'\u001b[39m\u001b[39m../input/home-data-for-ml-course/train.csv\u001b[39m\u001b[39m'\u001b[39m\n",
      "\u001b[1;31mModuleNotFoundError\u001b[0m: No module named 'pandas'"
     ]
    }
   ],
   "source": [
    "# Code you have previously used to load data\n",
    "import pandas as pd\n",
    "\n",
    "# Path of the file to read\n",
    "iowa_file_path = '../input/home-data-for-ml-course/train.csv'\n",
    "\n",
    "home_data = pd.read_csv(iowa_file_path)\n",
    "\n",
    "# Set up code checking\n",
    "from learntools.core import binder\n",
    "binder.bind(globals())\n",
    "from learntools.machine_learning.ex3 import *\n",
    "\n",
    "print(\"Setup Complete\")"
   ]
  },
  {
   "cell_type": "code",
   "execution_count": null,
   "metadata": {},
   "outputs": [
    {
     "name": "stdout",
     "output_type": "stream",
     "text": [
      "Not prime number\n"
     ]
    }
   ],
   "source": [
    "\n",
    "n=int(input(\"Enter The Number\"))\n",
    "for x in range(2,n):\n",
    "    if n%x==0:\n",
    "        print(\"Not prime number\")\n",
    "        break\n",
    "else:\n",
    "    print(\"a prime\")"
   ]
  },
  {
   "cell_type": "code",
   "execution_count": null,
   "metadata": {},
   "outputs": [
    {
     "data": {
      "text/plain": [
       "<function __main__.<lambda>(x)>"
      ]
     },
     "execution_count": 7,
     "metadata": {},
     "output_type": "execute_result"
    }
   ],
   "source": [
    "x=int(input(\"Enter The Number\"))\n",
    "lambda x:x<10 "
   ]
  },
  {
   "cell_type": "code",
   "execution_count": null,
   "metadata": {},
   "outputs": [
    {
     "name": "stdout",
     "output_type": "stream",
     "text": [
      "6\n"
     ]
    }
   ],
   "source": [
    "'''\n",
    "Random Variable Generator\n",
    "'''\n",
    "import random\n",
    "out=random.randrange(1,10)\n",
    "print(out )\n"
   ]
  },
  {
   "cell_type": "code",
   "execution_count": null,
   "metadata": {},
   "outputs": [
    {
     "name": "stdout",
     "output_type": "stream",
     "text": [
      "1\n"
     ]
    }
   ],
   "source": [
    "#randint(): return the random within the inclusive range\n",
    "\n",
    "out=random.randint(1,5)\n",
    "print(out)"
   ]
  },
  {
   "cell_type": "code",
   "execution_count": null,
   "metadata": {},
   "outputs": [
    {
     "name": "stdout",
     "output_type": "stream",
     "text": [
      "15\n"
     ]
    }
   ],
   "source": [
    "# getranbits(): return random integer with k bits\n",
    "\n",
    "out=random.getrandbits(4)\n",
    "print(out)"
   ]
  },
  {
   "cell_type": "code",
   "execution_count": null,
   "metadata": {},
   "outputs": [
    {
     "name": "stdout",
     "output_type": "stream",
     "text": [
      "['d']\n"
     ]
    }
   ],
   "source": [
    "# Choice(): return any random element\n",
    "ls=['a','b','c','d','e']\n",
    "out=random.choices(ls,weights=[1,1,1,10,1])\n",
    "print(out)"
   ]
  },
  {
   "cell_type": "code",
   "execution_count": null,
   "metadata": {},
   "outputs": [
    {
     "name": "stdout",
     "output_type": "stream",
     "text": [
      "['a']\n"
     ]
    }
   ],
   "source": [
    "# sample()\n",
    "ls=['a','a','c','d','e']\n",
    "out=random.sample(ls,k=1)\n",
    "print(out)"
   ]
  },
  {
   "cell_type": "code",
   "execution_count": null,
   "metadata": {},
   "outputs": [
    {
     "name": "stdout",
     "output_type": "stream",
     "text": [
      "Before Shuffle ['a', 'a', 'c', 'd', 'e']\n",
      "After Shuffle ['c', 'e', 'a', 'd', 'a']\n"
     ]
    }
   ],
   "source": [
    "# shuffle\n",
    "# sample()\n",
    "ls=['a','a','c','d','e']\n",
    "print(\"Before Shuffle\", ls)\n",
    "random.shuffle(ls)\n",
    "print(\"After Shuffle\" ,ls)\n",
    "\n"
   ]
  },
  {
   "cell_type": "code",
   "execution_count": null,
   "metadata": {},
   "outputs": [
    {
     "name": "stdout",
     "output_type": "stream",
     "text": [
      "OTP IS 7191\n"
     ]
    }
   ],
   "source": [
    "\n",
    "out=random.random()\n",
    "out1=out*10000\n",
    "s=int(out1)\n",
    "\n",
    "print(\"OTP IS\", s)"
   ]
  },
  {
   "cell_type": "code",
   "execution_count": null,
   "metadata": {},
   "outputs": [
    {
     "ename": "TypeError",
     "evalue": "'float' object is not subscriptable",
     "output_type": "error",
     "traceback": [
      "\u001b[1;31m---------------------------------------------------------------------------\u001b[0m",
      "\u001b[1;31mTypeError\u001b[0m                                 Traceback (most recent call last)",
      "Cell \u001b[1;32mIn[100], line 2\u001b[0m\n\u001b[0;32m      1\u001b[0m out\u001b[39m=\u001b[39mrandom\u001b[39m.\u001b[39mtriangular(\u001b[39m4\u001b[39m,\u001b[39m5\u001b[39m,\u001b[39m9\u001b[39m)\n\u001b[1;32m----> 2\u001b[0m out1\u001b[39m=\u001b[39m\u001b[39meval\u001b[39m(out[::\u001b[39m4\u001b[39;49m])\n\u001b[0;32m      3\u001b[0m \u001b[39mprint\u001b[39m(out1)\n",
      "\u001b[1;31mTypeError\u001b[0m: 'float' object is not subscriptable"
     ]
    }
   ],
   "source": [
    "\n",
    "out=random.triangular(4,5,9)\n",
    "out1=eval(out[::4])\n",
    "print(out1)"
   ]
  },
  {
   "cell_type": "code",
   "execution_count": null,
   "metadata": {},
   "outputs": [
    {
     "name": "stdout",
     "output_type": "stream",
     "text": [
      "This Semms a little odd\n"
     ]
    }
   ],
   "source": [
    "from datetime import datetime\n",
    "import random\n",
    "import time\n",
    "\n",
    "odds=[1,3,5,7,9,11,13,15,17,\n",
    "    19,21,23,25,27,29,31,35,37,39\n",
    "    ]\n",
    "right_tgis_minute=datetime.today().minute\n",
    "if right_tgis_minute in odds:\n",
    "    print(\"This Semms a little odd\")\n",
    "else:\n",
    "    print(\"not an odd\")\n",
    "wait=random.randint(1,10)\n",
    "time.sleep(wait)"
   ]
  },
  {
   "cell_type": "code",
   "execution_count": 1,
   "metadata": {},
   "outputs": [
    {
     "name": "stdout",
     "output_type": "stream",
     "text": [
      "2\t4\t6\n",
      "1\t5\t8\n",
      "1\t2\t4\n"
     ]
    }
   ],
   "source": [
    "lst=[[2,4,6],[1,5,8],[1,2,4]]\n",
    "for x in lst:\n",
    "    print(*x,sep='\\t')"
   ]
  },
  {
   "cell_type": "code",
   "execution_count": null,
   "metadata": {},
   "outputs": [
    {
     "name": "stdout",
     "output_type": "stream",
     "text": [
      "Dimension of matrice [[1, 2, 3], [4, 5, 6], ['s', 8, 9]]\n",
      "1\t2\t3\n",
      "4\t5\t6\n",
      "s\t8\t9\n",
      "Invalid Martice\n"
     ]
    }
   ],
   "source": [
    "#matrics:\n",
    "def matrics(arr):\n",
    "    ln=len(arr[0])\n",
    "    for x in arr:\n",
    "        if len(arr)!=ln:\n",
    "            return False\n",
    "    return True\n",
    "\n",
    "mat=[[1,2,3],[4,5,6],['s',8,9]]\n",
    "if matrics(mat):\n",
    "    print(f'Dimension of matrice {dim}')\n",
    "    for x in mat:\n",
    "        print(*x,sep=\"\\t\")\n",
    "    else:\n",
    "        print(\"Invalid Martice\")"
   ]
  },
  {
   "cell_type": "code",
   "execution_count": 32,
   "metadata": {},
   "outputs": [
    {
     "ename": "NameError",
     "evalue": "name 'eachlist' is not defined",
     "output_type": "error",
     "traceback": [
      "\u001b[1;31m---------------------------------------------------------------------------\u001b[0m",
      "\u001b[1;31mNameError\u001b[0m                                 Traceback (most recent call last)",
      "Cell \u001b[1;32mIn[32], line 23\u001b[0m\n\u001b[0;32m     20\u001b[0m co\u001b[39m=\u001b[39m[\u001b[39m1\u001b[39m]\n\u001b[0;32m     22\u001b[0m \u001b[39mfor\u001b[39;00m elem \u001b[39min\u001b[39;00m ls:\n\u001b[1;32m---> 23\u001b[0m     \u001b[39mfor\u001b[39;00m elem \u001b[39min\u001b[39;00m eachlist:\n\u001b[0;32m     24\u001b[0m         \u001b[39mif\u001b[39;00m elem \u001b[39mnot\u001b[39;00m \u001b[39min\u001b[39;00m common:\n\u001b[0;32m     25\u001b[0m             noncommon\u001b[39m+\u001b[39m\u001b[39m=\u001b[39melem\n",
      "\u001b[1;31mNameError\u001b[0m: name 'eachlist' is not defined"
     ]
    }
   ],
   "source": [
    "#Enter Two List By The User and retrive  not common elemnets of the list\n",
    "\n",
    "ls1=[2,4,5,6]\n",
    "ls2=[3,5,4,6]\n",
    "\n",
    "list(set(ls1).intersection(ls2))\n",
    "  \n",
    "\n",
    "#uncommon elements\n",
    "\n",
    "\n",
    "# Enter List from the user and square each elements of the list\n",
    "\n",
    "\n",
    "\n",
    "\n",
    "\n",
    "\n"
   ]
  },
  {
   "cell_type": "code",
   "execution_count": 15,
   "metadata": {},
   "outputs": [
    {
     "ename": "TypeError",
     "evalue": "not all arguments converted during string formatting",
     "output_type": "error",
     "traceback": [
      "\u001b[1;31m---------------------------------------------------------------------------\u001b[0m",
      "\u001b[1;31mTypeError\u001b[0m                                 Traceback (most recent call last)",
      "Cell \u001b[1;32mIn[15], line 5\u001b[0m\n\u001b[0;32m      3\u001b[0m \u001b[39mfor\u001b[39;00m n \u001b[39min\u001b[39;00m nums\u001b[39m.\u001b[39msplit(\u001b[39m'\u001b[39m\u001b[39m,\u001b[39m\u001b[39m'\u001b[39m):\n\u001b[0;32m      4\u001b[0m     \u001b[39mfor\u001b[39;00m n \u001b[39min\u001b[39;00m nums:\n\u001b[1;32m----> 5\u001b[0m         \u001b[39mif\u001b[39;00m n\u001b[39m%\u001b[39;49m\u001b[39m2\u001b[39;49m\u001b[39m==\u001b[39m\u001b[39m0\u001b[39m:\n\u001b[0;32m      6\u001b[0m             \u001b[39mprint\u001b[39m(nums[n])\n\u001b[0;32m      7\u001b[0m         \u001b[39melse\u001b[39;00m:\n",
      "\u001b[1;31mTypeError\u001b[0m: not all arguments converted during string formatting"
     ]
    }
   ],
   "source": [
    "#Enter List from the user and retrive even elements of the list\n",
    "nums = input('Enter')\n",
    "for n in nums.split(','):\n",
    "    for n in nums:\n",
    "        if n%2==0:\n",
    "            print(nums)\n",
    "        else:\n",
    "            print(\"exit\")\n"
   ]
  },
  {
   "cell_type": "code",
   "execution_count": 1,
   "metadata": {},
   "outputs": [
    {
     "name": "stdout",
     "output_type": "stream",
     "text": [
      "{7}\n"
     ]
    }
   ],
   "source": [
    "list_one = [4,5,6,7]\n",
    "list_two = [4,5,6]\n",
    "\n",
    "non_common = set(list_one).difference(list_two)\n",
    "\n",
    "print(non_common)\n"
   ]
  },
  {
   "cell_type": "code",
   "execution_count": 9,
   "metadata": {},
   "outputs": [
    {
     "name": "stdout",
     "output_type": "stream",
     "text": [
      "[2, 4]\n"
     ]
    }
   ],
   "source": [
    "ls=[1,2,5,4]\n",
    "a=[]\n",
    "for x in ls:\n",
    "    if x%2==0:\n",
    "        a.append(x)\n",
    "print(a)\n",
    "              "
   ]
  },
  {
   "cell_type": "code",
   "execution_count": 10,
   "metadata": {},
   "outputs": [
    {
     "name": "stdout",
     "output_type": "stream",
     "text": [
      "1.1\n"
     ]
    }
   ],
   "source": [
    "i=3.5\n",
    "k=1.2\n",
    "print(i%k)"
   ]
  },
  {
   "cell_type": "code",
   "execution_count": 13,
   "metadata": {},
   "outputs": [
    {
     "name": "stdout",
     "output_type": "stream",
     "text": [
      "5\n",
      "10\n"
     ]
    }
   ],
   "source": [
    "a=10\n",
    "b=5\n",
    "a=a^b\n",
    "b=a^b\n",
    "a=a^b\n",
    "\n",
    "print(a)\n",
    "print(b)"
   ]
  },
  {
   "cell_type": "code",
   "execution_count": 60,
   "metadata": {},
   "outputs": [
    {
     "name": "stdout",
     "output_type": "stream",
     "text": [
      "9193\n"
     ]
    }
   ],
   "source": [
    "import random\n",
    "a=1000\n",
    "b=9999\n",
    "out=random.randint(a,b)\n",
    "print(out)\n"
   ]
  },
  {
   "cell_type": "code",
   "execution_count": 1,
   "metadata": {},
   "outputs": [
    {
     "name": "stdout",
     "output_type": "stream",
     "text": [
      "    January 2005\n",
      "Mo Tu We Th Fr Sa Su\n",
      "                1  2\n",
      " 3  4  5  6  7  8  9\n",
      "10 11 12 13 14 15 16\n",
      "17 18 19 20 21 22 23\n",
      "24 25 26 27 28 29 30\n",
      "31\n",
      "\n",
      "   February 2005\n",
      "Mo Tu We Th Fr Sa Su\n",
      "    1  2  3  4  5  6\n",
      " 7  8  9 10 11 12 13\n",
      "14 15 16 17 18 19 20\n",
      "21 22 23 24 25 26 27\n",
      "28\n",
      "\n",
      "     March 2005\n",
      "Mo Tu We Th Fr Sa Su\n",
      "    1  2  3  4  5  6\n",
      " 7  8  9 10 11 12 13\n",
      "14 15 16 17 18 19 20\n",
      "21 22 23 24 25 26 27\n",
      "28 29 30 31\n",
      "\n",
      "     April 2005\n",
      "Mo Tu We Th Fr Sa Su\n",
      "             1  2  3\n",
      " 4  5  6  7  8  9 10\n",
      "11 12 13 14 15 16 17\n",
      "18 19 20 21 22 23 24\n",
      "25 26 27 28 29 30\n",
      "\n",
      "      May 2005\n",
      "Mo Tu We Th Fr Sa Su\n",
      "                   1\n",
      " 2  3  4  5  6  7  8\n",
      " 9 10 11 12 13 14 15\n",
      "16 17 18 19 20 21 22\n",
      "23 24 25 26 27 28 29\n",
      "30 31\n",
      "\n",
      "     June 2005\n",
      "Mo Tu We Th Fr Sa Su\n",
      "       1  2  3  4  5\n",
      " 6  7  8  9 10 11 12\n",
      "13 14 15 16 17 18 19\n",
      "20 21 22 23 24 25 26\n",
      "27 28 29 30\n",
      "\n",
      "     July 2005\n",
      "Mo Tu We Th Fr Sa Su\n",
      "             1  2  3\n",
      " 4  5  6  7  8  9 10\n",
      "11 12 13 14 15 16 17\n",
      "18 19 20 21 22 23 24\n",
      "25 26 27 28 29 30 31\n",
      "\n",
      "    August 2005\n",
      "Mo Tu We Th Fr Sa Su\n",
      " 1  2  3  4  5  6  7\n",
      " 8  9 10 11 12 13 14\n",
      "15 16 17 18 19 20 21\n",
      "22 23 24 25 26 27 28\n",
      "29 30 31\n",
      "\n",
      "   September 2005\n",
      "Mo Tu We Th Fr Sa Su\n",
      "          1  2  3  4\n",
      " 5  6  7  8  9 10 11\n",
      "12 13 14 15 16 17 18\n",
      "19 20 21 22 23 24 25\n",
      "26 27 28 29 30\n",
      "\n",
      "    October 2005\n",
      "Mo Tu We Th Fr Sa Su\n",
      "                1  2\n",
      " 3  4  5  6  7  8  9\n",
      "10 11 12 13 14 15 16\n",
      "17 18 19 20 21 22 23\n",
      "24 25 26 27 28 29 30\n",
      "31\n",
      "\n",
      "   November 2005\n",
      "Mo Tu We Th Fr Sa Su\n",
      "    1  2  3  4  5  6\n",
      " 7  8  9 10 11 12 13\n",
      "14 15 16 17 18 19 20\n",
      "21 22 23 24 25 26 27\n",
      "28 29 30\n",
      "\n",
      "   December 2005\n",
      "Mo Tu We Th Fr Sa Su\n",
      "          1  2  3  4\n",
      " 5  6  7  8  9 10 11\n",
      "12 13 14 15 16 17 18\n",
      "19 20 21 22 23 24 25\n",
      "26 27 28 29 30 31\n",
      "\n"
     ]
    }
   ],
   "source": [
    "import calendar\n",
    "month=1\n",
    "Year=2005\n",
    "for i in range(12):\n",
    "    print(calendar.month(Year,month))\n",
    "    month+=1\n"
   ]
  },
  {
   "cell_type": "code",
   "execution_count": 16,
   "metadata": {},
   "outputs": [
    {
     "name": "stdout",
     "output_type": "stream",
     "text": [
      "[1 2 2]\n"
     ]
    }
   ],
   "source": [
    "'''NumPy is a python package. It Stands For 'Numerical Python'. It is a library consisting of multidimensional array\n",
    "objects and a collection of routines for processing of array\n",
    "\n",
    "'''\n",
    "\n",
    "# First Function\n",
    "import numpy as np\n",
    "a=np.array([1,2,2])\n",
    "print(a)"
   ]
  },
  {
   "cell_type": "code",
   "execution_count": 13,
   "metadata": {},
   "outputs": [
    {
     "name": "stdout",
     "output_type": "stream",
     "text": [
      "[4, 8, 9, 6]\n",
      "[4 8 9 6]\n"
     ]
    }
   ],
   "source": [
    "# Example 2\n",
    "import numpy as np\n",
    "ls=[4,8,9,6]\n",
    "arr=np.array(ls)\n",
    "print(ls)\n",
    "print(arr)"
   ]
  },
  {
   "cell_type": "code",
   "execution_count": 3,
   "metadata": {},
   "outputs": [
    {
     "ename": "TypeError",
     "evalue": "array() missing required argument 'object' (pos 0)",
     "output_type": "error",
     "traceback": [
      "\u001b[1;31m---------------------------------------------------------------------------\u001b[0m",
      "\u001b[1;31mTypeError\u001b[0m                                 Traceback (most recent call last)",
      "Cell \u001b[1;32mIn[3], line 5\u001b[0m\n\u001b[0;32m      3\u001b[0m ls1\u001b[39m=\u001b[39m[[\u001b[39m2\u001b[39m,\u001b[39m5\u001b[39m,\u001b[39m6\u001b[39m,\u001b[39m7\u001b[39m],[\u001b[39m8\u001b[39m,\u001b[39m9\u001b[39m,\u001b[39m2\u001b[39m,\u001b[39m3\u001b[39m]]\n\u001b[0;32m      4\u001b[0m ls2\u001b[39m=\u001b[39m[[\u001b[39m2\u001b[39m,\u001b[39m8\u001b[39m,\u001b[39m3\u001b[39m,\u001b[39m9\u001b[39m],[\u001b[39m7\u001b[39m,\u001b[39m2\u001b[39m,\u001b[39m6\u001b[39m,\u001b[39m4\u001b[39m]]\n\u001b[1;32m----> 5\u001b[0m arr\u001b[39m=\u001b[39mnp\u001b[39m.\u001b[39;49marray()\n\u001b[0;32m      6\u001b[0m arr\u001b[39m.\u001b[39mshape\u001b[39m=\u001b[39m\u001b[39m1\u001b[39m,\u001b[39m6\u001b[39m\n\u001b[0;32m      7\u001b[0m \u001b[39mprint\u001b[39m(arr)\n",
      "\u001b[1;31mTypeError\u001b[0m: array() missing required argument 'object' (pos 0)"
     ]
    }
   ],
   "source": [
    "# Multilication Of Matrices\n",
    "import numpy as np\n",
    "ls1=[[2,5,6,7],[8,9,2,3]]\n",
    "ls2=[[2,8,3,9],[7,2,6,4]]\n",
    "arr=np.array()\n",
    "arr.shape=1,6\n",
    "print(arr)"
   ]
  },
  {
   "cell_type": "code",
   "execution_count": 39,
   "metadata": {},
   "outputs": [
    {
     "name": "stdout",
     "output_type": "stream",
     "text": [
      "[[[0 5 4 7 4 7 9 5]]] 3\n"
     ]
    }
   ],
   "source": [
    "import numpy as np\n",
    "ls=[[[0,5,4,7,4,7,9,5,]]]\n",
    "out=np.array(ls,ndmin=2)\n",
    "print(out,out.ndim)"
   ]
  },
  {
   "cell_type": "code",
   "execution_count": 58,
   "metadata": {},
   "outputs": [
    {
     "name": "stdout",
     "output_type": "stream",
     "text": [
      "[[ 3590  1119   912]\n",
      " [35588  8573  7888]\n",
      " [56782 13975 12416]]\n"
     ]
    }
   ],
   "source": [
    "# Matrix Of Addition\n",
    "\n",
    "m1=[[4,5,8],[25,53,54],[32,85,96]]\n",
    "m2=[[78,58,58],[598,59,96],[36,74,25]]\n",
    "\n",
    "\n",
    "\n",
    "\n",
    "arr1=np.array(m1)\n",
    "arr2=np.array(m2)\n",
    "\n",
    "if arr1.shape==arr2.shape:\n",
    "    out=np.dot(arr1,arr2)\n",
    "    print(out,)\n",
    "else:\n",
    "    print(\"Shape Is Not Valid\")"
   ]
  },
  {
   "cell_type": "code",
   "execution_count": 2,
   "metadata": {},
   "outputs": [
    {
     "ename": "ValueError",
     "evalue": "invalid literal for int() with base 10: ''",
     "output_type": "error",
     "traceback": [
      "\u001b[1;31m---------------------------------------------------------------------------\u001b[0m",
      "\u001b[1;31mValueError\u001b[0m                                Traceback (most recent call last)",
      "Cell \u001b[1;32mIn[2], line 3\u001b[0m\n\u001b[0;32m      1\u001b[0m \u001b[39m# Matrix Of Addition\u001b[39;00m\n\u001b[1;32m----> 3\u001b[0m r1,c1\u001b[39m=\u001b[39m\u001b[39mmap\u001b[39m(\u001b[39mint\u001b[39m,\u001b[39minput\u001b[39m(\u001b[39m\"\u001b[39m\u001b[39mEnter The Shape\u001b[39m\u001b[39m\"\u001b[39m)\u001b[39m.\u001b[39msplit(\u001b[39m'\u001b[39m\u001b[39mx\u001b[39m\u001b[39m'\u001b[39m))\n\u001b[0;32m      5\u001b[0m m1\u001b[39m=\u001b[39m\u001b[39meval\u001b[39m(\u001b[39mstr\u001b[39m([[\u001b[39m0\u001b[39m]\u001b[39m*\u001b[39mc1]\u001b[39m*\u001b[39mr1))\n\u001b[0;32m      6\u001b[0m \u001b[39mfor\u001b[39;00m i \u001b[39min\u001b[39;00m \u001b[39mrange\u001b[39m(r1):\n",
      "\u001b[1;31mValueError\u001b[0m: invalid literal for int() with base 10: ''"
     ]
    }
   ],
   "source": [
    "# Matrix Of Addition\n",
    "\n",
    "r1,c1=map(int,input(\"Enter The Shape\").split('x'))\n",
    "\n",
    "m1=eval(str([[0]*c1]*r1))\n",
    "for i in range(r1):\n",
    "    for j in range(c1):\n",
    "        m1[i][j]=int(input(f'Enter The Element {i+1}*{j+1}'))\n",
    "\n",
    "\n",
    "r2,c2=map(int,input(\"Enter The Shape\").split('x'))\n",
    "\n",
    "m1=eval(str([[0]*c2]*r2))\n",
    "for i in range(r1):\n",
    "    for j in range(c1):\n",
    "        m1[i][j]=int(input(f'Enter The Element {i+1}*{j+1}'))\n",
    "\n",
    "\n",
    "\n",
    "\n",
    "arr1=np.array(m1)\n",
    "arr2=np.array(m2)\n",
    "\n",
    "if arr1.shape==arr2.shape:\n",
    "    out=np.add(arr1,arr2)\n",
    "    print(\"Matrx1\")\n",
    "    print(arr1)\n",
    "    print('Matrix2')\n",
    "    print(arr2)\n",
    "    print('Multiplication')\n",
    "    print(out)\n",
    "else:\n",
    "    print(\"Shape Is Not Valid\")"
   ]
  },
  {
   "cell_type": "code",
   "execution_count": 6,
   "metadata": {},
   "outputs": [
    {
     "name": "stdout",
     "output_type": "stream",
     "text": [
      "[[0. 0. 0.]\n",
      " [0. 0. 0.]\n",
      " [0. 0. 0.]]\n"
     ]
    }
   ],
   "source": [
    "import numpy as np\n",
    "\n",
    "out=np.zeros((3,3))\n",
    "print(out)"
   ]
  },
  {
   "cell_type": "code",
   "execution_count": 9,
   "metadata": {},
   "outputs": [
    {
     "name": "stdout",
     "output_type": "stream",
     "text": [
      "[[1. 1. 1.]\n",
      " [1. 1. 1.]\n",
      " [1. 1. 1.]]\n"
     ]
    }
   ],
   "source": [
    "out=np.ones((3,3))\n",
    "print(out)"
   ]
  },
  {
   "cell_type": "code",
   "execution_count": 21,
   "metadata": {},
   "outputs": [
    {
     "name": "stdout",
     "output_type": "stream",
     "text": [
      "[[1. 0. 0.]\n",
      " [0. 1. 0.]\n",
      " [0. 0. 1.]]\n"
     ]
    }
   ],
   "source": [
    "out=np.eye(3)\n",
    "print(out)"
   ]
  },
  {
   "cell_type": "code",
   "execution_count": 27,
   "metadata": {},
   "outputs": [
    {
     "name": "stdout",
     "output_type": "stream",
     "text": [
      "[9. 8. 7. 6. 5. 4.]\n"
     ]
    }
   ],
   "source": [
    "ls=list(map(eval,input().split()))\n",
    "\n",
    "arr=np.array(ls,dtype=float)\n",
    "#out=np.flip(arr)\n",
    "print(arr[::-1])"
   ]
  },
  {
   "cell_type": "code",
   "execution_count": 37,
   "metadata": {},
   "outputs": [
    {
     "name": "stdout",
     "output_type": "stream",
     "text": [
      "[[1 2 3]\n",
      " [4 5 6]\n",
      " [7 8 9]]\n"
     ]
    }
   ],
   "source": [
    "import numpy as np\n",
    "ls=[1,2,3,4,5,6,7,8,9]\n",
    "ar=np.array(ls)\n",
    "print(ar.reshape(3,3))\n"
   ]
  },
  {
   "cell_type": "code",
   "execution_count": 49,
   "metadata": {},
   "outputs": [
    {
     "name": "stdout",
     "output_type": "stream",
     "text": [
      "[[1. 0. 0. 0. 0.]\n",
      " [0. 1. 0. 0. 0.]\n",
      " [0. 0. 1. 0. 0.]\n",
      " [0. 0. 0. 1. 0.]]\n"
     ]
    }
   ],
   "source": [
    "r,c=list(map(eval,input().split()))\n",
    "out=np.eye(r,c)\n",
    "print(out)"
   ]
  },
  {
   "cell_type": "code",
   "execution_count": 2,
   "metadata": {},
   "outputs": [
    {
     "name": "stdout",
     "output_type": "stream",
     "text": [
      "99 590 99\n"
     ]
    }
   ],
   "source": [
    "import numpy as np\n",
    "r=list(map(eval,input().split()))\n",
    "c=list(map(eval,input().split()))\n",
    "\n",
    "out=np.array(r)\n",
    "out1=np.array(c)\n",
    "print(*out+out1)"
   ]
  },
  {
   "cell_type": "code",
   "execution_count": 46,
   "metadata": {},
   "outputs": [
    {
     "name": "stdout",
     "output_type": "stream",
     "text": [
      "130 141 134\n",
      "1\n"
     ]
    }
   ],
   "source": [
    "ls=[45,45,85]\n",
    "ls2=[85,96,49]\n",
    "ls1=np.array(ls)\n",
    "ls2=np.array(ls2)\n",
    "print(*ls+ls2)\n",
    "np.eye(*(5,5))\n",
    "print(ls1.ndim)\n"
   ]
  },
  {
   "cell_type": "code",
   "execution_count": 4,
   "metadata": {},
   "outputs": [
    {
     "data": {
      "text/plain": [
       "(2, 2, 3)"
      ]
     },
     "execution_count": 4,
     "metadata": {},
     "output_type": "execute_result"
    }
   ],
   "source": [
    "arr = np.array([[[1, 2, 3], [4, 5, 6]], [[7, 8, 9], [10, 11, 12]]])\n",
    "arr.shape\n"
   ]
  },
  {
   "cell_type": "code",
   "execution_count": 31,
   "metadata": {},
   "outputs": [
    {
     "name": "stdout",
     "output_type": "stream",
     "text": [
      "(2, 6, 4)\n",
      "Count 1\n"
     ]
    }
   ],
   "source": [
    "arr=np.array([[2,6,4]])\n",
    "count=0\n",
    "for x in arr:\n",
    "    print(tuple(a))\n",
    "    count+=1\n",
    "print(\"Count\", count)"
   ]
  },
  {
   "cell_type": "code",
   "execution_count": 70,
   "metadata": {},
   "outputs": [
    {
     "name": "stdout",
     "output_type": "stream",
     "text": [
      "2.0 2.75 3.5 4.25 5.0\n"
     ]
    }
   ],
   "source": [
    "space=np.linspace(2,5,5)\n",
    "print(*space)"
   ]
  },
  {
   "cell_type": "code",
   "execution_count": 1,
   "metadata": {},
   "outputs": [
    {
     "ename": "NameError",
     "evalue": "name 'np' is not defined",
     "output_type": "error",
     "traceback": [
      "\u001b[1;31m---------------------------------------------------------------------------\u001b[0m",
      "\u001b[1;31mNameError\u001b[0m                                 Traceback (most recent call last)",
      "Cell \u001b[1;32mIn[1], line 1\u001b[0m\n\u001b[1;32m----> 1\u001b[0m arr\u001b[39m=\u001b[39mnp\u001b[39m.\u001b[39marange(\u001b[39m99\u001b[39m)\n\u001b[0;32m      2\u001b[0m \u001b[39mprint\u001b[39m(arr)\n\u001b[0;32m      3\u001b[0m arr\u001b[39m.\u001b[39mravel()\n",
      "\u001b[1;31mNameError\u001b[0m: name 'np' is not defined"
     ]
    }
   ],
   "source": [
    "arr=np.arange(99)\n",
    "print(arr)\n",
    "arr.ravel()\n",
    "arr.shape"
   ]
  },
  {
   "cell_type": "code",
   "execution_count": 6,
   "metadata": {},
   "outputs": [
    {
     "name": "stdout",
     "output_type": "stream",
     "text": [
      "[89.6, 95.0, 172.4, 113.0]\n"
     ]
    }
   ],
   "source": [
    "import numpy as np\n",
    "ls=[32,35,78,45]\n",
    "ls1=[1.8*c +32 for c in ls]\n",
    "print(ls1)"
   ]
  },
  {
   "cell_type": "code",
   "execution_count": 19,
   "metadata": {},
   "outputs": [
    {
     "ename": "SyntaxError",
     "evalue": "invalid syntax (4245797203.py, line 2)",
     "output_type": "error",
     "traceback": [
      "\u001b[1;36m  Cell \u001b[1;32mIn[19], line 2\u001b[1;36m\u001b[0m\n\u001b[1;33m    ls1=[i for i in ls:i+1]\u001b[0m\n\u001b[1;37m                      ^\u001b[0m\n\u001b[1;31mSyntaxError\u001b[0m\u001b[1;31m:\u001b[0m invalid syntax\n"
     ]
    }
   ],
   "source": [
    "ls=[10,25,45,78]\n",
    "ls1=[i for i in ls:i+1]\n",
    "print(ls1)"
   ]
  },
  {
   "cell_type": "code",
   "execution_count": 73,
   "metadata": {},
   "outputs": [
    {
     "name": "stdout",
     "output_type": "stream",
     "text": [
      "s a k e t m a h e s h w a r i c s i t g m a i l c o m\n"
     ]
    }
   ],
   "source": [
    "st='saketmaheshwari.cs.it@gmail.com'\n",
    "ls=[i for i in st if i.isalpha()]\n",
    "print(*ls)"
   ]
  },
  {
   "cell_type": "code",
   "execution_count": 93,
   "metadata": {},
   "outputs": [
    {
     "name": "stdout",
     "output_type": "stream",
     "text": [
      "[47, 87, 80, 56, 60, 89]\n"
     ]
    }
   ],
   "source": [
    "ls=[45,85,78,54,58,87]\n",
    "out=[x+2 for x in ls ]\n",
    "print(out)"
   ]
  },
  {
   "cell_type": "code",
   "execution_count": 115,
   "metadata": {},
   "outputs": [
    {
     "name": "stdout",
     "output_type": "stream",
     "text": [
      "['even', 'odd', 'odd', 'even', 'even']\n"
     ]
    }
   ],
   "source": [
    "ls=[78,87,85,74,4]\n",
    "out=['even'if x%2==0 else 'odd' for x in ls]\n",
    "print(out)"
   ]
  },
  {
   "cell_type": "code",
   "execution_count": 122,
   "metadata": {},
   "outputs": [
    {
     "name": "stdout",
     "output_type": "stream",
     "text": [
      "['pass', 'fail', 'pass', 'pass', 'fail', 'pass']\n"
     ]
    }
   ],
   "source": [
    "sam=[45,2,87,54,5,78]\n",
    "out=[\"pass\" if x>33 else 'fail' for x in sam]\n",
    "print(out)"
   ]
  },
  {
   "cell_type": "code",
   "execution_count": 1,
   "metadata": {},
   "outputs": [
    {
     "ename": "SyntaxError",
     "evalue": "expected 'else' after 'if' expression (3483720217.py, line 2)",
     "output_type": "error",
     "traceback": [
      "\u001b[1;36m  Cell \u001b[1;32mIn[1], line 2\u001b[1;36m\u001b[0m\n\u001b[1;33m    out=[x if x<='a' and x>'z' for x in ls]\u001b[0m\n\u001b[1;37m         ^\u001b[0m\n\u001b[1;31mSyntaxError\u001b[0m\u001b[1;31m:\u001b[0m expected 'else' after 'if' expression\n"
     ]
    }
   ],
   "source": [
    "ls=['saket','rohn','sidd','aet','div']\n",
    "out=[x if x<='a' and x>'z' for x in ls]\n",
    "print(out)"
   ]
  },
  {
   "cell_type": "code",
   "execution_count": 16,
   "metadata": {},
   "outputs": [
    {
     "name": "stdout",
     "output_type": "stream",
     "text": [
      "<class 'dict'>\n",
      "{'name': 'saket', 'Marks': [25, 30, 36, 12], 'College': 'GLAU', 'adress': 'chaumuhan'}\n"
     ]
    }
   ],
   "source": [
    "'''\n",
    "Dictionary object in python:\n",
    "Unorderd collection of items and each items is the pair of key and value\n",
    "'''\n",
    "info={'name':'yash','name':'saket','Marks':[25,30,36,12],'College':'GLAU'}\n",
    "print(type(info))\n",
    "out=info\n",
    "info['adress']='chaumuhan'\n",
    "print(out)"
   ]
  },
  {
   "cell_type": "code",
   "execution_count": 21,
   "metadata": {},
   "outputs": [
    {
     "name": "stdout",
     "output_type": "stream",
     "text": [
      "{'Marks': [25, 30, 36, 12], 'College': 'GLAU'}\n"
     ]
    }
   ],
   "source": [
    "info={'name':'yash','name':'saket','Marks':[25,30,36,12],'College':'GLAU'}\n",
    "del info['name']\n",
    "print(info)"
   ]
  },
  {
   "cell_type": "code",
   "execution_count": 23,
   "metadata": {},
   "outputs": [
    {
     "name": "stdout",
     "output_type": "stream",
     "text": [
      "N/A\n"
     ]
    }
   ],
   "source": [
    "'''\n",
    "Method in dict\n",
    "get(key): Returns The Value of the given key is found\n",
    "return default  value if key is not found\n",
    "'''\n",
    "\n",
    "info={'name':'yash','name':'saket','Marks':[25,30,36,12],'College':'GLAU'}\n",
    "out=info.get('Mobile',\"N/A\")\n",
    "print(out)"
   ]
  },
  {
   "cell_type": "code",
   "execution_count": 28,
   "metadata": {},
   "outputs": [
    {
     "name": "stdout",
     "output_type": "stream",
     "text": [
      "\n"
     ]
    }
   ],
   "source": [
    "# Clear(): Remove All items from dict object\n",
    "info={'name':'yash','name':'saket','Marks':[25,30,36,12],'College':'GLAU'}\n",
    "info.clear()\n",
    "print(*info)"
   ]
  },
  {
   "cell_type": "code",
   "execution_count": 1,
   "metadata": {},
   "outputs": [
    {
     "name": "stdout",
     "output_type": "stream",
     "text": [
      "{'name': 'saket', 'Marks': [25, 30, 36, 12], 'College': 'GLAU'} 1767147391360\n",
      "{'name': 'saket', 'Marks': [25, 30, 36, 12], 'College': 'GLAU'} 1767168980864\n"
     ]
    }
   ],
   "source": [
    "# copy(): Returns the shalow copy of the dict object\n",
    "info={'name':'yash','name':'saket','Marks':[25,30,36,12],'College':'GLAU'}\n",
    "var=info.copy()\n",
    "print(info,id(info))\n",
    "print(var,id(var))"
   ]
  },
  {
   "cell_type": "code",
   "execution_count": 45,
   "metadata": {},
   "outputs": [
    {
     "name": "stdout",
     "output_type": "stream",
     "text": [
      "name : saket\n",
      "Marks : [70, 80, 76, 82]\n",
      "College : GLAU\n",
      "contact : [7217572227]\n"
     ]
    }
   ],
   "source": [
    "ls={'name':'yash','name':'saket','Marks':[70,80,76,82],'College':'GLAU'}\n",
    "ls['contact']=[7217572227]\n",
    "for i in ls:\n",
    "    print(i,':',ls[i])"
   ]
  },
  {
   "cell_type": "code",
   "execution_count": 59,
   "metadata": {},
   "outputs": [
    {
     "ename": "TypeError",
     "evalue": "list indices must be integers or slices, not str",
     "output_type": "error",
     "traceback": [
      "\u001b[1;31m---------------------------------------------------------------------------\u001b[0m",
      "\u001b[1;31mTypeError\u001b[0m                                 Traceback (most recent call last)",
      "Cell \u001b[1;32mIn[59], line 5\u001b[0m\n\u001b[0;32m      3\u001b[0m out\u001b[39m=\u001b[39m\u001b[39mdict\u001b[39m\u001b[39m.\u001b[39mfromkeys(ls,output)\n\u001b[0;32m      4\u001b[0m \u001b[39mfor\u001b[39;00m x \u001b[39min\u001b[39;00m ls:\n\u001b[1;32m----> 5\u001b[0m     ls[i]\u001b[39m+\u001b[39mls[out]\n\u001b[0;32m      6\u001b[0m     \u001b[39mprint\u001b[39m(x)\n",
      "\u001b[1;31mTypeError\u001b[0m: list indices must be integers or slices, not str"
     ]
    }
   ],
   "source": [
    "ls=['Name','Last Name','Mobile Number','University','Branch']\n",
    "output=['Saket','Maheshwari','7217572227','GLA University','B.Tech CS']\n",
    "out=dict.fromkeys(ls,output)\n",
    "for x in ls:\n",
    "    ls[i]+ls[out]\n",
    "    print(x)"
   ]
  },
  {
   "cell_type": "code",
   "execution_count": 33,
   "metadata": {},
   "outputs": [
    {
     "name": "stdout",
     "output_type": "stream",
     "text": [
      "{1: [6, 7, 8, 9, 10], 2: [6, 7, 8, 9, 10], 3: [6, 7, 8, 9, 10], 4: [6, 7, 8, 9, 10], 5: [6, 7, 8, 9, 10]}\n"
     ]
    }
   ],
   "source": [
    "import math\n",
    "ls=[1,2,3,4,5]\n",
    "output=[6,7,8,9,10]\n",
    "out=dict.fromkeys(ls,output)\n",
    "for x in ls:\n",
    "    out1=tuple(ls)+tuple(output)\n",
    "print(out)"
   ]
  },
  {
   "cell_type": "code",
   "execution_count": 3,
   "metadata": {},
   "outputs": [
    {
     "name": "stdout",
     "output_type": "stream",
     "text": [
      "1 2 3 4 5 6 7 8 9 10 11 12 13 14 15 16 17 18 19 20 21 22 23 24 25 26 27 28 29 30 31 32 33 34 35 36 37 38 39 40 41 42 43 44 45 46 47 48 49 51 52 53 54 55 56 57 58 59 60 61 62 63 64 65 66 67 68 69 70 71 72 73 74 75 76 77 78 79 80 81 82 83 84 85 86 87 88 89 90 91 92 93 94 95 96 97 98 99 "
     ]
    }
   ],
   "source": [
    "for x in range(1,100):\n",
    "    if x==50:\n",
    "        continue\n",
    "    print(x,end=\" \")"
   ]
  },
  {
   "cell_type": "code",
   "execution_count": 19,
   "metadata": {},
   "outputs": [
    {
     "name": "stdout",
     "output_type": "stream",
     "text": [
      "25\n"
     ]
    }
   ],
   "source": [
    "s1=list(map(eval,input(\"Enter The Numbers\").split()))\n",
    "s2=out\n",
    "for x in s1:\n",
    "    out=x*x\n",
    "    print(out)\n",
    "    \n",
    "print(s2)"
   ]
  }
 ],
 "metadata": {
  "kernelspec": {
   "display_name": "Python 3.11.0 64-bit",
   "language": "python",
   "name": "python3"
  },
  "language_info": {
   "codemirror_mode": {
    "name": "ipython",
    "version": 3
   },
   "file_extension": ".py",
   "mimetype": "text/x-python",
   "name": "python",
   "nbconvert_exporter": "python",
   "pygments_lexer": "ipython3",
   "version": "3.11.0"
  },
  "orig_nbformat": 4,
  "vscode": {
   "interpreter": {
    "hash": "6773b4cfd51867c23bf57b338111b20f8833119214edace8f00207c37a789176"
   }
  }
 },
 "nbformat": 4,
 "nbformat_minor": 2
}
